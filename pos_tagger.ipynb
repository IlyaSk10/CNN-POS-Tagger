{
  "nbformat": 4,
  "nbformat_minor": 0,
  "metadata": {
    "colab": {
      "name": "pos_tagger.ipynb",
      "provenance": [],
      "collapsed_sections": []
    },
    "kernelspec": {
      "name": "python3",
      "display_name": "Python 3"
    },
    "accelerator": "GPU"
  },
  "cells": [
    {
      "cell_type": "code",
      "metadata": {
        "id": "X6E8QCAFnHrv",
        "colab_type": "code",
        "outputId": "0a290171-433b-41a5-aeb2-d0cf8aa93b72",
        "colab": {
          "base_uri": "https://localhost:8080/",
          "height": 442
        }
      },
      "source": [
        "!git clone https://github.com/IlyaSk10/POS_Tagger_with_using_CNN/\n",
        "%cd POS_Tagger_with_using_CNN\n",
        "!unzip SYNTAGRUS_texts.zip\n",
        "!head syntagrus_full.ud\n",
        "from data_preparation.converter_from_ud_to_txt import UDConverter\n",
        "UDConverter.convert_from_conllu(\"syntagrus_full.ud\", \"syntagrus_fixed.txt\")\n",
        "!head syntagrus_fixed.txt\n",
        "text_data= \"syntagrus_fixed.txt\""
      ],
      "execution_count": 4,
      "outputs": [
        {
          "output_type": "stream",
          "text": [
            "fatal: destination path 'POS_Tagger_with_using_CNN' already exists and is not an empty directory.\n",
            "/content/POS_Tagger_with_using_CNN\n",
            "Archive:  SYNTAGRUS_texts.zip\n",
            "replace syntagrus_full.ud? [y]es, [n]o, [A]ll, [N]one, [r]ename: y\n",
            "  inflating: syntagrus_full.ud       \n",
            "1\tНачальник\tначальник\tNOUN\tAnimacy=Anim|Case=Nom|Gender=Masc|Number=Sing\n",
            "2\tобластного\tобластной\tADJ\tCase=Gen|Degree=Pos|Gender=Neut|Number=Sing\n",
            "3\tуправления\tуправление\tNOUN\tAnimacy=Inan|Case=Gen|Gender=Neut|Number=Sing\n",
            "4\tсвязи\tсвязь\tNOUN\tAnimacy=Inan|Case=Gen|Gender=Fem|Number=Sing\n",
            "5\tСемен\tсемен\tNOUN\tAnimacy=Anim|Case=Nom|Gender=Masc|Number=Sing\n",
            "6\tЕремеевич\tеремеевич\tNOUN\tAnimacy=Anim|Case=Nom|Gender=Masc|Number=Sing\n",
            "7\tбыл\tбыть\tVERB\tGender=Masc|Mood=Ind|Number=Sing|Tense=Past|VerbForm=Fin|Voice=Act\n",
            "8\tчеловек\tчеловек\tNOUN\tAnimacy=Anim|Case=Nom|Gender=Masc|Number=Sing\n",
            "9\tпростой\tпростой\tADJ\tCase=Nom|Degree=Pos|Gender=Masc|Number=Sing\n",
            "10\t,\t,\tPUNCT\t_\n",
            "Начальник\tначальник\tNOUN\tCase=Nom|Gender=Masc|Number=Sing\n",
            "областного\tобластной\tADJ\tCase=Gen|Degree=Pos|Gender=Neut|Number=Sing\n",
            "управления\tуправление\tNOUN\tCase=Gen|Gender=Neut|Number=Sing\n",
            "связи\tсвязь\tNOUN\tCase=Gen|Gender=Fem|Number=Sing\n",
            "Семен\tсемен\tNOUN\tCase=Nom|Gender=Masc|Number=Sing\n",
            "Еремеевич\tеремеевич\tNOUN\tCase=Nom|Gender=Masc|Number=Sing\n",
            "был\tбыть\tVERB\tGender=Masc|Mood=Ind|Number=Sing|Tense=Past|VerbForm=Fin|Voice=Act\n",
            "человек\tчеловек\tNOUN\tCase=Nom|Gender=Masc|Number=Sing\n",
            "простой\tпростой\tADJ\tCase=Nom|Degree=Pos|Gender=Masc|Number=Sing\n",
            ",\t,\tPUNCT\t_\n"
          ],
          "name": "stdout"
        }
      ]
    },
    {
      "cell_type": "code",
      "metadata": {
        "id": "ZXixbTRwJ2fd",
        "colab_type": "code",
        "colab": {}
      },
      "source": [
        "def load_from_file(file):\n",
        "  with open(file,'r',encoding='utf-8') as f:\n",
        "    read_file=f.read().split('\\n')\n",
        "  return read_file"
      ],
      "execution_count": 0,
      "outputs": []
    },
    {
      "cell_type": "code",
      "metadata": {
        "id": "l0fUZwDlQ48z",
        "colab_type": "code",
        "colab": {}
      },
      "source": [
        "dataset=load_from_file(text_data)"
      ],
      "execution_count": 0,
      "outputs": []
    },
    {
      "cell_type": "code",
      "metadata": {
        "id": "s-2_W2EJhmR4",
        "colab_type": "code",
        "outputId": "2ce9d4eb-94f0-4739-e9f0-a453dcef2596",
        "colab": {
          "base_uri": "https://localhost:8080/",
          "height": 54
        }
      },
      "source": [
        "import string\n",
        "dataset = list(filter(None, dataset))\n",
        "text = ''.join([('' if iteration.split('\\t')[2]=='PUNCT' else ' ')+iteration.split('\\t')[0] for iteration in dataset[:200]]).strip()\n",
        "print(text)"
      ],
      "execution_count": 7,
      "outputs": [
        {
          "output_type": "stream",
          "text": [
            "Начальник областного управления связи Семен Еремеевич был человек простой, приходил на работу всегда вовремя, здоровался с секретаршей за руку и иногда даже писал в стенгазету заметки под псевдонимом\" Муха\". В приемной его с утра ожидали посетители,- кое-кто с важными делами, а кое-кто и с такими, которые легко можно было решить в нижестоящих инстанциях, не затрудняя Семена Еремеевича. Однако стиль работы Семена Еремеевича заключался в том, чтобы принимать всех желающих и лично вникать в дело. Приемная была обставлена просто, но по-деловому. У двери стоял стол секретарши, на столе- пишущая машинка с широкой кареткой. В углу висел репродуктор и играло радио для развлечения ожидающих и еще для того, чтобы заглушать голос начальника, доносившийся из кабинета, так_как, бесспорно, среди посетителей могли находиться и случайные люди. Кабинет отличался скромностью, присущей Семену Еремеевичу. В глубине стоял широкий письменный стол с бронзовыми чернильницами и перед ним два кожаных кресла. Справа был стол для заседаний- длинный, накрытый зеленым сукном и с обеих сторон аккуратно заставленный стульями. Семен Еремеевич очень не любил, когда за этот стол кто-нибудь\n"
          ],
          "name": "stdout"
        }
      ]
    },
    {
      "cell_type": "code",
      "metadata": {
        "id": "ez72JAgsijVd",
        "colab_type": "code",
        "colab": {}
      },
      "source": [
        "def clear_text (dataset):\n",
        "  clean_dataset=[]\n",
        "  for sentence in dataset:\n",
        "    if sentence.split('\\t')[0]!='.' and sentence.split('\\t')[2]!='PUNCT':\n",
        "      clean_dataset.append([sentence.split('\\t')[0].lower(),sentence.split('\\t')[2]])\n",
        "    elif sentence.split('\\t')[0]=='.':\n",
        "      clean_dataset.append([sentence.split('\\t')[0].lower(),sentence.split('\\t')[2]])\n",
        "    else:\n",
        "      continue\n",
        "  return clean_dataset"
      ],
      "execution_count": 0,
      "outputs": []
    },
    {
      "cell_type": "code",
      "metadata": {
        "id": "phwj_XPyrOpj",
        "colab_type": "code",
        "colab": {}
      },
      "source": [
        "clean_dataset=clear_text(dataset)"
      ],
      "execution_count": 0,
      "outputs": []
    },
    {
      "cell_type": "code",
      "metadata": {
        "id": "-5pZulejsDmk",
        "colab_type": "code",
        "outputId": "adfadf38-e657-492e-abd2-101fbffc8282",
        "colab": {
          "base_uri": "https://localhost:8080/",
          "height": 54
        }
      },
      "source": [
        "print(clean_dataset[:10])"
      ],
      "execution_count": 10,
      "outputs": [
        {
          "output_type": "stream",
          "text": [
            "[['начальник', 'NOUN'], ['областного', 'ADJ'], ['управления', 'NOUN'], ['связи', 'NOUN'], ['семен', 'NOUN'], ['еремеевич', 'NOUN'], ['был', 'VERB'], ['человек', 'NOUN'], ['простой', 'ADJ'], ['приходил', 'VERB']]\n"
          ],
          "name": "stdout"
        }
      ]
    },
    {
      "cell_type": "code",
      "metadata": {
        "id": "rpXoCZ8a6Hze",
        "colab_type": "code",
        "colab": {}
      },
      "source": [
        "def concatenate_words(dataset):\n",
        "  concat_words=[]\n",
        "  concat_labels=[]\n",
        "  sentence=[]\n",
        "  labels=[]\n",
        "  for word in dataset:\n",
        "    if word[1]!='PUNCT':\n",
        "      sentence.append(word[0])\n",
        "      labels.append(word[1])\n",
        "    else:\n",
        "      concat_words.append([word for word in sentence])\n",
        "      concat_labels.append([label for label in labels])\n",
        "      sentence.clear()\n",
        "      labels.clear()\n",
        "  return concat_words,concat_labels"
      ],
      "execution_count": 0,
      "outputs": []
    },
    {
      "cell_type": "code",
      "metadata": {
        "id": "cojUqfC0901R",
        "colab_type": "code",
        "colab": {}
      },
      "source": [
        "text,labels_sen=concatenate_words(clean_dataset)"
      ],
      "execution_count": 0,
      "outputs": []
    },
    {
      "cell_type": "code",
      "metadata": {
        "id": "ZbVxmVRQwKSc",
        "colab_type": "code",
        "outputId": "6c38fc84-a4bb-4fb9-cdc1-05f31b60119a",
        "colab": {
          "base_uri": "https://localhost:8080/",
          "height": 68
        }
      },
      "source": [
        "clean_dataset=[line for line in clean_dataset if line!='']\n",
        "MAX_LEN_TOKEN=max(len(line[0]) for line in clean_dataset)\n",
        "NUMBER_UNIQUE_TOKEN=len(set(line[0] for line in clean_dataset if line[1]!='PUNCT'))\n",
        "MAX_LEN_SENTENCE=max(len(sentence) for sentence in text)\n",
        "print('Максимальная длина токена', MAX_LEN_TOKEN)\n",
        "print('Количество уникальных токенов' , NUMBER_UNIQUE_TOKEN)\n",
        "print('Максимальная длина предложения' , MAX_LEN_SENTENCE)"
      ],
      "execution_count": 13,
      "outputs": [
        {
          "output_type": "stream",
          "text": [
            "Максимальная длина токена 31\n",
            "Количество уникальных токенов 104251\n",
            "Максимальная длина предложения 216\n"
          ],
          "name": "stdout"
        }
      ]
    },
    {
      "cell_type": "code",
      "metadata": {
        "id": "wzin5II3qdmO",
        "colab_type": "code",
        "outputId": "6784d839-bd74-4fd6-ac4a-172b6ce882a6",
        "colab": {
          "base_uri": "https://localhost:8080/",
          "height": 54
        }
      },
      "source": [
        "labels = ['<NOTAG>'] + sorted({token[1] for token in clean_dataset})\n",
        "label2id = {label: i+1 for i, label in enumerate(labels)}\n",
        "print('Метки частей речи' , label2id)"
      ],
      "execution_count": 14,
      "outputs": [
        {
          "output_type": "stream",
          "text": [
            "Метки частей речи {'<NOTAG>': 1, 'ADJ': 2, 'ADP': 3, 'ADV': 4, 'CONJ': 5, 'DET': 6, 'H': 7, 'INTJ': 8, 'NOUN': 9, 'NUM': 10, 'PART': 11, 'PRON': 12, 'PUNCT': 13, 'VERB': 14}\n"
          ],
          "name": "stdout"
        }
      ]
    },
    {
      "cell_type": "code",
      "metadata": {
        "id": "hov349dzJsYn",
        "colab_type": "code",
        "colab": {}
      },
      "source": [
        "from collections import Counter\n",
        "def build_vocab(text,pad_symbol='<PAD>'):\n",
        "  sentence=' '.join(line[0].lower() for line in text)\n",
        "  mydict = dict((j, i+1) for i, j in enumerate(set(sentence)))\n",
        "  mydict.update({pad_symbol:max(mydict.values())+1})\n",
        "  return mydict\n",
        "\n",
        "def counter(dataset,most_freq_symbols):\n",
        "  if most_freq_symbols is None:\n",
        "    most_freq_symbols=5\n",
        "  sentence=' '.join([word[0] for word in dataset])\n",
        "  return Counter(list(sentence)).most_common(most_freq_symbols)    \n"
      ],
      "execution_count": 0,
      "outputs": []
    },
    {
      "cell_type": "code",
      "metadata": {
        "id": "6eht7psJXXKb",
        "colab_type": "code",
        "outputId": "108a0381-1562-4916-9f57-4cda891b71df",
        "colab": {
          "base_uri": "https://localhost:8080/",
          "height": 71
        }
      },
      "source": [
        "print('Символы словаря',build_vocab(text=clean_dataset[:10]),'\\n','Наиболее частотные символы',counter(clean_dataset[:10],most_freq_symbols=10))"
      ],
      "execution_count": 16,
      "outputs": [
        {
          "output_type": "stream",
          "text": [
            "Символы словаря {'н': 1, 'в': 2, 'к': 3, 'с': 4, 'д': 5, 'л': 6, 'п': 7, 'ч': 8, 'а': 9, 'з': 10, 'б': 11, 'т': 12, 'р': 13, 'м': 14, 'г': 15, 'и': 16, ' ': 17, 'я': 18, 'у': 19, 'ы': 20, 'й': 21, 'х': 22, 'о': 23, 'е': 24, 'ь': 25, '<PAD>': 26} \n",
            " Наиболее частотные символы [(' ', 9), ('е', 9), ('о', 7), ('л', 6), ('и', 6), ('н', 5), ('а', 4), ('с', 4), ('р', 4), ('в', 4)]\n"
          ],
          "name": "stdout"
        }
      ]
    },
    {
      "cell_type": "code",
      "metadata": {
        "id": "E7pcJDs1eNIq",
        "colab_type": "code",
        "colab": {}
      },
      "source": [
        "vocab=build_vocab(text=clean_dataset)\n",
        "\n",
        "import numpy as np\n",
        "\n",
        "A=np.zeros(shape=(len(text),MAX_LEN_SENTENCE,MAX_LEN_TOKEN))\n",
        "B=np.zeros(shape=(len(text),MAX_LEN_SENTENCE,1))\n",
        "for i in range(len(text)):\n",
        "  for j,word in enumerate(text[i]):\n",
        "    conv=[number for letter in word for symbol,number in vocab.items() if letter==symbol]\n",
        "    conv1=[number for symbol,number in label2id.items() if labels_sen[i][j]==symbol]\n",
        "    #print(word,j,conv)\n",
        "    np.put(A[i,j],[k for k in range(len(word))],conv)\n",
        "    np.put(B[i,j],0,conv1)\n"
      ],
      "execution_count": 0,
      "outputs": []
    },
    {
      "cell_type": "code",
      "metadata": {
        "id": "NGOyaw7gULCt",
        "colab_type": "code",
        "colab": {}
      },
      "source": [
        "def add_pad(words2id,text,pad_symbol,max_len_token,add_boundary=True):\n",
        "  mat_with_boundary=np.zeros(shape=(len(text),MAX_LEN_SENTENCE,MAX_LEN_TOKEN+1),dtype=int)\n",
        "  for i in range(len(text)):\n",
        "    for j in range(len(text[i])):\n",
        "      if add_boundary==True:\n",
        "        mat_with_boundary[i,j]=np.insert(words2id[i,j],0,pad_symbol)\n",
        "      else:\n",
        "        continue\n",
        "  return words2id if (add_boundary==False) else mat_with_boundary"
      ],
      "execution_count": 0,
      "outputs": []
    },
    {
      "cell_type": "code",
      "metadata": {
        "id": "v-7nlU7CWXrE",
        "colab_type": "code",
        "colab": {}
      },
      "source": [
        "mat_with_pad=add_pad(A,text,pad_symbol=0,max_len_token=MAX_LEN_TOKEN,add_boundary=True)"
      ],
      "execution_count": 0,
      "outputs": []
    },
    {
      "cell_type": "code",
      "metadata": {
        "id": "s99eLc4cvIRT",
        "colab_type": "code",
        "outputId": "3c356e85-71c1-4a2b-94fb-f71ccb1fa354",
        "colab": {
          "base_uri": "https://localhost:8080/",
          "height": 34
        }
      },
      "source": [
        "from sklearn.model_selection import train_test_split\n",
        "\n",
        "X_train, X_test, y_train, y_test = train_test_split(words, label_to_id, test_size=0.33, random_state=42)\n",
        "\n",
        "from keras.utils import to_categorical\n",
        "\n",
        "y_train_cat=to_categorical(y_train, num_classes=len(labels)+1)\n",
        "y_test_cat=to_categorical(y_test, num_classes=len(labels)+1)"
      ],
      "execution_count": 0,
      "outputs": [
        {
          "output_type": "stream",
          "text": [
            "Using TensorFlow backend.\n"
          ],
          "name": "stderr"
        }
      ]
    },
    {
      "cell_type": "code",
      "metadata": {
        "id": "aC-m7FwS5684",
        "colab_type": "code",
        "colab": {}
      },
      "source": [
        "from keras.models import Sequential\n",
        "from keras.layers import Dense, Activation,Embedding,Bidirectional,LSTM\n",
        "\n",
        "# создание сети\n",
        "model = Sequential()\n",
        "vocab_size=NUMBER_UNIQUE_TOKEN\n",
        "num_classes=len(labels)+1\n",
        "model.add(Embedding(vocab_size, output_dim= MAX_LEN_TOKEN, input_length=MAX_LEN_TOKEN))\n",
        "model.add(Bidirectional(LSTM(units=32, input_shape=(NUMBER_UNIQUE_TOKEN, MAX_LEN_TOKEN),dropout = 0.2)))\n",
        "model.add(Dense(units=num_classes, activation='softmax'))\n",
        "model.compile(loss='categorical_crossentropy', optimizer='adam', metrics=['accuracy'])\n",
        "\n",
        "# обучение модели\n",
        "model.fit(X_train, y_train_cat, batch_size = 64,epochs=1,validation_data = (X_test, y_test_cat),verbose = 1)"
      ],
      "execution_count": 0,
      "outputs": []
    }
  ]
}