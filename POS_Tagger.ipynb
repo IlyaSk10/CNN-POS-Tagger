{
  "nbformat": 4,
  "nbformat_minor": 0,
  "metadata": {
    "colab": {
      "name": "Untitled1.ipynb",
      "provenance": []
    },
    "kernelspec": {
      "name": "python3",
      "display_name": "Python 3"
    }
  },
  "cells": [
    {
      "cell_type": "code",
      "metadata": {
        "id": "5BGzTyiDxh_z",
        "colab_type": "code",
        "colab": {
          "base_uri": "https://localhost:8080/",
          "height": 272
        },
        "outputId": "0a945548-133d-4bb8-bf3b-858525214aeb"
      },
      "source": [
        "# Download SynTagRus corpus\n",
        "!wget -nc https://github.com/IlyaSk10/POS_Tagger-with-using-CNN/blob/master/SYNTAGRUS_texts.zip\n",
        "!unzip SYNTAGRUS_texts.zip\n",
        "!head syntagrus_full.ud"
      ],
      "execution_count": 1,
      "outputs": [
        {
          "output_type": "stream",
          "text": [
            "File ‘SYNTAGRUS_texts.zip’ already there; not retrieving.\n",
            "\n",
            "Archive:  SYNTAGRUS_texts.zip\n",
            "replace syntagrus_full.ud? [y]es, [n]o, [A]ll, [N]one, [r]ename: y\n",
            "  inflating: syntagrus_full.ud       \n",
            "1\tНачальник\tначальник\tNOUN\tAnimacy=Anim|Case=Nom|Gender=Masc|Number=Sing\n",
            "2\tобластного\tобластной\tADJ\tCase=Gen|Degree=Pos|Gender=Neut|Number=Sing\n",
            "3\tуправления\tуправление\tNOUN\tAnimacy=Inan|Case=Gen|Gender=Neut|Number=Sing\n",
            "4\tсвязи\tсвязь\tNOUN\tAnimacy=Inan|Case=Gen|Gender=Fem|Number=Sing\n",
            "5\tСемен\tсемен\tNOUN\tAnimacy=Anim|Case=Nom|Gender=Masc|Number=Sing\n",
            "6\tЕремеевич\tеремеевич\tNOUN\tAnimacy=Anim|Case=Nom|Gender=Masc|Number=Sing\n",
            "7\tбыл\tбыть\tVERB\tGender=Masc|Mood=Ind|Number=Sing|Tense=Past|VerbForm=Fin|Voice=Act\n",
            "8\tчеловек\tчеловек\tNOUN\tAnimacy=Anim|Case=Nom|Gender=Masc|Number=Sing\n",
            "9\tпростой\tпростой\tADJ\tCase=Nom|Degree=Pos|Gender=Masc|Number=Sing\n",
            "10\t,\t,\tPUNCT\t_\n"
          ],
          "name": "stdout"
        }
      ]
    }
  ]
}